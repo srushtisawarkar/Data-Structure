{
  "nbformat": 4,
  "nbformat_minor": 0,
  "metadata": {
    "colab": {
      "provenance": []
    },
    "kernelspec": {
      "name": "python3",
      "display_name": "Python 3"
    },
    "language_info": {
      "name": "python"
    }
  },
  "cells": [
    {
      "cell_type": "markdown",
      "source": [
        "# Theory Questions"
      ],
      "metadata": {
        "id": "5ytyMsnEvHq4"
      }
    },
    {
      "cell_type": "markdown",
      "source": [
        "1) What are data structures, and why are they important?\n",
        "\n",
        "Ans: Data structures are ways of organizing and storing data so it can be used efficiently.\n",
        "\n",
        "Why are they important?\n",
        "\n",
        "* Can handle large amounts of data.\n",
        "* Makes searching, sorting, and accessing data faster."
      ],
      "metadata": {
        "id": "mIdQsE8Ov0vb"
      }
    },
    {
      "cell_type": "markdown",
      "source": [
        "2) Explain the difference between mutable and immutable data types with examples\n",
        "\n",
        "Ans:\n",
        "\n",
        "Mutable:\n",
        "*   Values can be modified\n",
        "*   Example: List, Set, Dictionary\n",
        "*   Code: list1 = [1,2]; list1[0] = 100 --> [100,2]\n",
        "            \n",
        "Immutable:\n",
        "*  Values cannot be modified\n",
        "*  Example: String, Tuple\n",
        "*  Code: b = \"hello\"; b[0] = \"H\" --> (Error)\n",
        "\n",
        "\n",
        "              "
      ],
      "metadata": {
        "id": "OuEdGiKoyJku"
      }
    },
    {
      "cell_type": "markdown",
      "source": [
        "3) What are the main differences between lists and tuples in Python?\n",
        "\n",
        "Ans:\n",
        "1. Mutability:\n",
        "\n",
        "* List is mutable – you can change, add, or remove elements.\n",
        "* Tuple is immutable – you cannot change its elements after creation.\n",
        "\n",
        "2. Syntax:\n",
        "\n",
        "* List uses square brackets: my_list = [1, 2, 3]\n",
        "* Tuple uses parentheses: my_tuple = (1, 2, 3)\n",
        "\n",
        "3. Performance:\n",
        "\n",
        "* Tuples are slightly faster and use less memory than lists."
      ],
      "metadata": {
        "id": "OwSStfAC1yBP"
      }
    },
    {
      "cell_type": "markdown",
      "source": [
        "4) Describe how dictionaries store data?\n",
        "\n",
        "Ans:\n",
        "*  A dictionary in Python stores data as key-value pairs.\n",
        "*  Each unique key maps to a value, and you can use the key to access the value.\n",
        "\n",
        "Example:\n",
        "\n",
        "info = {\"name\": \"Srushti\", \"age\": 20}\n",
        "; print(info[\"name\"]) --> Srushti\n"
      ],
      "metadata": {
        "id": "Fc-2Oxkh3zbs"
      }
    },
    {
      "cell_type": "markdown",
      "source": [
        "5) Why might you use a set instead of a list in Python?\n",
        "\n",
        "Ans:\n",
        "You might use a set instead of a list in Python when:\n",
        "\n",
        "* You need to store only unique items (no duplicates).\n",
        "\n",
        "* You want faster membership checking (e.g., x in my_set is faster than x in my_list)."
      ],
      "metadata": {
        "id": "IXEOJ1Bl5-12"
      }
    },
    {
      "cell_type": "markdown",
      "source": [
        "6) What is a string in Python, and how is it different from a list?\n",
        "\n",
        "Ans:  Difference from a list:\n",
        "* A string holds only characters enclosed in quotes (\" \" or ' ') and is immutable (cannot be changed).\n",
        "\n",
        "* A list can hold any data types (numbers, strings, etc.) and is mutable (can be changed).\n",
        "\n",
        "Example:\n",
        "\n",
        "s = \"hello\"       # string\n",
        "\n",
        "l = ['h', 'e', 'l', 'l', 'o']  # list"
      ],
      "metadata": {
        "id": "DQ-g646S7O87"
      }
    },
    {
      "cell_type": "markdown",
      "source": [
        "7) How do tuples ensure data integrity in Python?\n",
        "\n",
        "Ans: Tuples ensure data integrity in Python because they are immutable — once created, their values cannot be changed.\n",
        "\n",
        "This means:\n",
        "\n",
        "* Data stays fixed and protected from accidental modification.\n",
        "\n",
        "* Tuples are useful when you want to store constant data like coordinates or dates.\n",
        "\n"
      ],
      "metadata": {
        "id": "cVJpdBzj9Gb-"
      }
    },
    {
      "cell_type": "markdown",
      "source": [
        "8) What is a hash table, and how does it relate to dictionaries in Python?\n",
        "\n",
        "Ans:\n",
        "* A hash table is a data structure that stores data in key-value pairs using a hash function to compute an index for each key.\n",
        "\n",
        "* In Python, a dictionary is built using a hash table, allowing quick data lookup, insertion, and deletion."
      ],
      "metadata": {
        "id": "rzLT7hDL-LDN"
      }
    },
    {
      "cell_type": "markdown",
      "source": [
        "9) Can lists contain different data types in Python?\n",
        "\n",
        "Ans: Yes, lists in Python can contain different data types\n",
        "      --> Example: my_list = [1, \"hello\", 3.14, True]"
      ],
      "metadata": {
        "id": "b9JsxX8G_FHk"
      }
    },
    {
      "cell_type": "markdown",
      "source": [
        "10) Explain why strings are immutable in Python?\n",
        "\n",
        "Ans:\n",
        "Strings are immutable in Python to ensure:\n",
        "\n",
        "* Safety: They can't be changed accidentally.\n",
        "\n",
        "* Efficiency: Immutable objects are faster and can be reused.\n",
        "\n",
        "* Hashing: Strings can be used as dictionary keys because they don’t change."
      ],
      "metadata": {
        "id": "x8fIL2u__zyj"
      }
    },
    {
      "cell_type": "markdown",
      "source": [
        "11) What advantages do dictionaries offer over lists for certain tasks?\n",
        "\n",
        "Ans:\n",
        "Dictionaries offer these advantages over lists for certain tasks:\n",
        "\n",
        "*  Fast lookup using keys (O(1) time on average)\n",
        "*  No need to remember index positions, just use descriptive keys"
      ],
      "metadata": {
        "id": "ap69t2ZhCuGZ"
      }
    },
    {
      "cell_type": "markdown",
      "source": [
        "12)  Describe a scenario where using a tuple would be preferable over a list?\n",
        "\n",
        "Ans: Use a tuple instead of a list when you want to store fixed data that should not be changed.\n",
        "\n",
        "Example scenario:\n",
        "Storing geographic coordinates (latitude, longitude).\n",
        "\n",
        "location = (19.0760, 72.8777)  # Mumbai coordinates\n",
        "{Tuples are preferred here because the coordinates should stay constant.}"
      ],
      "metadata": {
        "id": "k0dgxHoDCwsB"
      }
    },
    {
      "cell_type": "markdown",
      "source": [
        "13) How do sets handle duplicate values in Python?\n",
        "\n",
        "Ans:\n",
        "In Python, sets automatically remove duplicate values.\n",
        "\n",
        "Example:\n",
        "\n",
        "s = {1, 2, 2, 3, 3, 3}\n",
        "; print(s)  # Output: {1, 2, 3}"
      ],
      "metadata": {
        "id": "8tbnPsk7D30I"
      }
    },
    {
      "cell_type": "markdown",
      "source": [
        "14) How does the “in” keyword work differently for lists and dictionaries?\n",
        "\n",
        "Ans:\n",
        "* In a list:\n",
        "\n",
        "my_list = [1, 2, 3]\n",
        "; print(2 in my_list)  # True\n",
        "\n",
        "* In a dictionary:\n",
        "\n",
        "my_dict = {\"name\": \"Srushti\", \"age\": 20}\n",
        "; print(\"name\" in my_dict)  # True\n",
        "; print(\"Srushti\" in my_dict)  # False\n",
        "\n",
        "Summary:\n",
        "\n",
        "* in with list → checks for value\n",
        "* in with dict → checks for key"
      ],
      "metadata": {
        "id": "vzX3xNigExwj"
      }
    },
    {
      "cell_type": "markdown",
      "source": [
        "15) Can you modify the elements of a tuple? Explain why or why not?\n",
        "\n",
        "Ans:\n",
        "* No, you cannot modify the elements of a tuple in Python because tuples are immutable.\n",
        "\n",
        "* Once a tuple is created, its elements cannot be changed, added, or removed. This helps ensure data safety and consistency\n"
      ],
      "metadata": {
        "id": "vkDu5fFXF73t"
      }
    },
    {
      "cell_type": "markdown",
      "source": [
        "16) What is a nested dictionary, and give an example of its use case?\n",
        "\n",
        "Ans:A nested dictionary means a dictionary inside another dictionary.\n",
        "\n",
        "* Example:\n",
        "student = {\n",
        "    \"name\": \"Srushti\",\n",
        "    \"marks\": {\"math\": 85, \"science\": 90}\n",
        "}\n",
        "\n",
        "* Use:\n",
        "It helps store detailed info, like a student’s subjects and marks."
      ],
      "metadata": {
        "id": "ReRGLA0RG_Si"
      }
    },
    {
      "cell_type": "markdown",
      "source": [
        "17)  Describe the time complexity of accessing elements in a dictionary?\n",
        "\n",
        "Ans: The time complexity of accessing elements in a Python dictionary is:\n",
        "\n",
        "* O(1) (on average)\n",
        "This means you can access any value by its key very quickly, regardless of the dictionary's size.\n"
      ],
      "metadata": {
        "id": "YsMUUhnAJoON"
      }
    },
    {
      "cell_type": "markdown",
      "source": [
        "18)  In what situations are lists preferred over dictionaries?\n",
        "\n",
        "Ans:\n",
        "Lists are preferred over dictionaries when:\n",
        "\n",
        "- You need to store ordered data.\n",
        "\n",
        "- You access elements by position (index).\n",
        "\n",
        "- You’re storing simple sequences like numbers, names, etc."
      ],
      "metadata": {
        "id": "rueZiPXjKHzt"
      }
    },
    {
      "cell_type": "markdown",
      "source": [
        "19) Why are dictionaries considered unordered, and how does that affect data retrieval\n",
        "\n",
        "Ans:\n",
        "Dictionaries were considered unordered before Python 3.7, meaning they didn't keep the order in which items were added.\n",
        "\n",
        "Since Python 3.7+, dictionaries preserve insertion order, but they are still accessed by key, not position.\n",
        "\n",
        "* Effect on data retrieval:\n",
        "\n",
        "You cannot rely on index positions (like in lists).\n",
        "\n",
        "You must use the key to get a value"
      ],
      "metadata": {
        "id": "KwozJKhdWFVJ"
      }
    },
    {
      "cell_type": "markdown",
      "source": [
        "20) Explain the difference between a list and a dictionary in terms of data retrieval.\n",
        "\n",
        "Ans:\n",
        "* A list retrieves data using an index (number)\n",
        "\n",
        "Example:\n",
        "\n",
        "my_list = [10, 20, 30]\n",
        "; print(my_list[1])  # Output: 20\n",
        "\n",
        "* A dictionary retrieves data using a key (name).\n",
        "\n",
        "Example:\n",
        "\n",
        "my_dict = {\"a\": 10, \"b\": 20}\n",
        "; print(my_dict[\"b\"])  # Output: 20\n"
      ],
      "metadata": {
        "id": "GRkCfcNzY_Qw"
      }
    },
    {
      "cell_type": "markdown",
      "source": [
        "# Practical Questions"
      ],
      "metadata": {
        "id": "RFlbeAcOci9K"
      }
    },
    {
      "cell_type": "code",
      "source": [
        "#1) Write a code to create a string with your name and print it?\n",
        "name=\"Srushti\"\n",
        "print(name)"
      ],
      "metadata": {
        "colab": {
          "base_uri": "https://localhost:8080/"
        },
        "id": "cjRuKBPVdcqK",
        "outputId": "9a4c677c-931e-462b-c3bb-9f3491d4b0bd"
      },
      "execution_count": 1,
      "outputs": [
        {
          "output_type": "stream",
          "name": "stdout",
          "text": [
            "Srushti\n"
          ]
        }
      ]
    },
    {
      "cell_type": "code",
      "source": [
        "#2) Write a code to find the length of the string \"Hello World\"?\n",
        "s=\"Hello World\"\n",
        "print(len(s))"
      ],
      "metadata": {
        "colab": {
          "base_uri": "https://localhost:8080/"
        },
        "id": "rnjJSe2gdoIA",
        "outputId": "e3098cc8-6240-4a39-ba73-b975e24b10f8"
      },
      "execution_count": 2,
      "outputs": [
        {
          "output_type": "stream",
          "name": "stdout",
          "text": [
            "11\n"
          ]
        }
      ]
    },
    {
      "cell_type": "code",
      "source": [
        "#3) Write a code to slice the first 3 characters from the string \"Python Programming\"\n",
        "s=\"Python Programming\"\n",
        "print(s[:3])"
      ],
      "metadata": {
        "colab": {
          "base_uri": "https://localhost:8080/"
        },
        "id": "cSkPl1LXeXSR",
        "outputId": "324af190-5453-4a55-8940-b15a7ef98d68"
      },
      "execution_count": 7,
      "outputs": [
        {
          "output_type": "stream",
          "name": "stdout",
          "text": [
            "Pyt\n"
          ]
        }
      ]
    },
    {
      "cell_type": "code",
      "source": [
        "#4) Write a code to convert the string \"hello\" to uppercase?\n",
        "s=\"hello\"\n",
        "print(s.upper())"
      ],
      "metadata": {
        "colab": {
          "base_uri": "https://localhost:8080/"
        },
        "id": "2amEPfohfBlz",
        "outputId": "6f7b4518-9376-42d3-ce28-c5dd1e3a5206"
      },
      "execution_count": 9,
      "outputs": [
        {
          "output_type": "stream",
          "name": "stdout",
          "text": [
            "HELLO\n"
          ]
        }
      ]
    },
    {
      "cell_type": "code",
      "source": [
        "#5) Write a code to replace the word \"apple\" with \"orange\" in the string \"I like apple\"\n",
        "s=\"I like apple\"\n",
        "s1=s.replace(\"apple\",\"orange\")\n",
        "print(s1)"
      ],
      "metadata": {
        "colab": {
          "base_uri": "https://localhost:8080/"
        },
        "id": "-mKX8P3SfY_d",
        "outputId": "adb10216-7b93-4cfe-c8f5-da86d057363c"
      },
      "execution_count": 11,
      "outputs": [
        {
          "output_type": "stream",
          "name": "stdout",
          "text": [
            "I like orange\n"
          ]
        }
      ]
    },
    {
      "cell_type": "code",
      "source": [
        "#6) Write a code to create a list with numbers 1 to 5 and print it?\n",
        "l=[1,2,3,4,5]\n",
        "print(l)"
      ],
      "metadata": {
        "colab": {
          "base_uri": "https://localhost:8080/"
        },
        "id": "BqqyTdppgX9s",
        "outputId": "5a31e321-b303-4897-b96c-effb07bf1d96"
      },
      "execution_count": 12,
      "outputs": [
        {
          "output_type": "stream",
          "name": "stdout",
          "text": [
            "[1, 2, 3, 4, 5]\n"
          ]
        }
      ]
    },
    {
      "cell_type": "code",
      "source": [
        "#7) Write a code to append the number 10 to the list [1, 2, 3, 4]\n",
        "l=[1, 2, 3, 4]\n",
        "l.append(10)\n",
        "print(l)"
      ],
      "metadata": {
        "colab": {
          "base_uri": "https://localhost:8080/"
        },
        "id": "dp93tI_PgyPe",
        "outputId": "88e1823e-9936-4f97-9546-c2be07c17159"
      },
      "execution_count": 13,
      "outputs": [
        {
          "output_type": "stream",
          "name": "stdout",
          "text": [
            "[1, 2, 3, 4, 10]\n"
          ]
        }
      ]
    },
    {
      "cell_type": "code",
      "source": [
        "#8) Write a code to remove the number 3 from the list [1, 2, 3, 4, 5]\n",
        "l=[1, 2, 3, 4, 5]\n",
        "l.remove(3)\n",
        "print(l)"
      ],
      "metadata": {
        "colab": {
          "base_uri": "https://localhost:8080/"
        },
        "id": "KzZN66RMhDH7",
        "outputId": "d504111c-4b4c-47ee-94c9-94b4d06eb157"
      },
      "execution_count": 14,
      "outputs": [
        {
          "output_type": "stream",
          "name": "stdout",
          "text": [
            "[1, 2, 4, 5]\n"
          ]
        }
      ]
    },
    {
      "cell_type": "code",
      "source": [
        "#9) Write a code to access the second element in the list ['a', 'b', 'c', 'd']\n",
        "l=['a', 'b', 'c', 'd']\n",
        "print(l[1])"
      ],
      "metadata": {
        "colab": {
          "base_uri": "https://localhost:8080/"
        },
        "id": "jBvxm80ihSSx",
        "outputId": "e93c8b83-95cf-4fca-983c-9f52a7efc46a"
      },
      "execution_count": 15,
      "outputs": [
        {
          "output_type": "stream",
          "name": "stdout",
          "text": [
            "b\n"
          ]
        }
      ]
    },
    {
      "cell_type": "code",
      "source": [
        "#10) Write a code to reverse the list [10, 20, 30, 40, 50].\n",
        "l=[10, 20, 30, 40, 50]\n",
        "l1=l[::-1]\n",
        "print(l1)"
      ],
      "metadata": {
        "colab": {
          "base_uri": "https://localhost:8080/"
        },
        "id": "RUbmCqdJhjsU",
        "outputId": "1d347281-10aa-434d-e4f0-daef7429ad0c"
      },
      "execution_count": 17,
      "outputs": [
        {
          "output_type": "stream",
          "name": "stdout",
          "text": [
            "[50, 40, 30, 20, 10]\n"
          ]
        }
      ]
    },
    {
      "cell_type": "code",
      "source": [
        "#11)  Write a code to create a tuple with the elements 100, 200, 300 and print it.\n",
        "t=(100, 200, 300)\n",
        "print(t)"
      ],
      "metadata": {
        "colab": {
          "base_uri": "https://localhost:8080/"
        },
        "id": "O3p3yh64iOHa",
        "outputId": "bd2f13e7-2145-4f86-c44e-3d8bb0060f23"
      },
      "execution_count": 18,
      "outputs": [
        {
          "output_type": "stream",
          "name": "stdout",
          "text": [
            "(100, 200, 300)\n"
          ]
        }
      ]
    },
    {
      "cell_type": "code",
      "source": [
        "#12) Write a code to access the second-to-last element of the tuple ('red', 'green', 'blue', 'yellow').\n",
        "t=('red', 'green', 'blue', 'yellow')\n",
        "print(t[-2])"
      ],
      "metadata": {
        "colab": {
          "base_uri": "https://localhost:8080/"
        },
        "id": "DjkwG-ANigWX",
        "outputId": "8d31f0d3-41c9-4dba-d58f-1854599545aa"
      },
      "execution_count": 19,
      "outputs": [
        {
          "output_type": "stream",
          "name": "stdout",
          "text": [
            "blue\n"
          ]
        }
      ]
    },
    {
      "cell_type": "code",
      "source": [
        "#13) Write a code to find the minimum number in the tuple (10, 20, 5, 15).\n",
        "t=(10, 20, 5, 15)\n",
        "print(min(t))"
      ],
      "metadata": {
        "colab": {
          "base_uri": "https://localhost:8080/"
        },
        "id": "qfrJMnrPizb-",
        "outputId": "4c80add9-7937-45d1-e8d8-56374fc1f4f5"
      },
      "execution_count": 20,
      "outputs": [
        {
          "output_type": "stream",
          "name": "stdout",
          "text": [
            "5\n"
          ]
        }
      ]
    },
    {
      "cell_type": "code",
      "source": [
        "#14) Write a code to find the index of the element \"cat\" in the tuple ('dog', 'cat', 'rabbit').\n",
        "t=('dog', 'cat', 'rabbit')\n",
        "print(t.index(\"cat\"))"
      ],
      "metadata": {
        "colab": {
          "base_uri": "https://localhost:8080/"
        },
        "id": "Ji9VkiC2jLJ9",
        "outputId": "5a63b200-a65a-4d55-9e20-c30080f04d43"
      },
      "execution_count": 22,
      "outputs": [
        {
          "output_type": "stream",
          "name": "stdout",
          "text": [
            "1\n"
          ]
        }
      ]
    },
    {
      "cell_type": "code",
      "source": [
        "#15) Write a code to create a tuple containing three different fruits and check if \"kiwi\" is in it\n",
        "t=(\"spple\",\"orange\",\"kiwi\")\n",
        "print(\"kiwi\" in t)"
      ],
      "metadata": {
        "colab": {
          "base_uri": "https://localhost:8080/"
        },
        "id": "q50mewgBjyRG",
        "outputId": "4074dec0-57f0-4640-c021-214e982b9a49"
      },
      "execution_count": 25,
      "outputs": [
        {
          "output_type": "stream",
          "name": "stdout",
          "text": [
            "True\n"
          ]
        }
      ]
    },
    {
      "cell_type": "code",
      "source": [
        "#16) Write a code to create a set with the elements 'a', 'b', 'c' and print it\n",
        "s={'a','b','c'}\n",
        "print(s)"
      ],
      "metadata": {
        "colab": {
          "base_uri": "https://localhost:8080/"
        },
        "id": "UJpgKkxTkPE2",
        "outputId": "039498f3-7a49-45dd-b29f-d25135209273"
      },
      "execution_count": 27,
      "outputs": [
        {
          "output_type": "stream",
          "name": "stdout",
          "text": [
            "{'b', 'a', 'c'}\n"
          ]
        }
      ]
    },
    {
      "cell_type": "code",
      "source": [
        "#17) Write a code to clear all elements from the set {1, 2, 3, 4, 5}\n",
        "s={1, 2, 3, 4, 5}\n",
        "s.clear()\n",
        "print(s)"
      ],
      "metadata": {
        "colab": {
          "base_uri": "https://localhost:8080/"
        },
        "id": "yOAh988pkjUr",
        "outputId": "fdc971e1-d85f-4f88-e06b-e696ee8e53a2"
      },
      "execution_count": 29,
      "outputs": [
        {
          "output_type": "stream",
          "name": "stdout",
          "text": [
            "set()\n"
          ]
        }
      ]
    },
    {
      "cell_type": "code",
      "source": [
        "#18) Write a code to remove the element 4 from the set {1, 2, 3, 4}.\n",
        "s={1, 2, 3, 4}\n",
        "s.remove(4)\n",
        "print(s)"
      ],
      "metadata": {
        "colab": {
          "base_uri": "https://localhost:8080/"
        },
        "id": "eg8ypPx0mvxP",
        "outputId": "20e647d2-28dd-45ff-d1e8-1b273f1b3992"
      },
      "execution_count": 30,
      "outputs": [
        {
          "output_type": "stream",
          "name": "stdout",
          "text": [
            "{1, 2, 3}\n"
          ]
        }
      ]
    },
    {
      "cell_type": "code",
      "source": [
        "#19) Write a code to find the union of two sets {1, 2, 3} and {3, 4, 5}.\n",
        "s1={1, 2, 3}\n",
        "s2={3, 4, 5}\n",
        "print(s1|s2)"
      ],
      "metadata": {
        "colab": {
          "base_uri": "https://localhost:8080/"
        },
        "id": "kJTiKaWknBwB",
        "outputId": "6347aa5e-d123-4cbb-9310-66c8e9b23c9f"
      },
      "execution_count": 31,
      "outputs": [
        {
          "output_type": "stream",
          "name": "stdout",
          "text": [
            "{1, 2, 3, 4, 5}\n"
          ]
        }
      ]
    },
    {
      "cell_type": "code",
      "source": [
        "#20) Write a code to find the intersection of two sets {1, 2, 3} and {2, 3, 4}.\n",
        "s1={1, 2, 3}\n",
        "s2={2, 3, 4}\n",
        "print(s1&s2)"
      ],
      "metadata": {
        "colab": {
          "base_uri": "https://localhost:8080/"
        },
        "id": "wHStnu8dnXqo",
        "outputId": "4f95e4c7-10da-4977-8d21-f34908d2122c"
      },
      "execution_count": 32,
      "outputs": [
        {
          "output_type": "stream",
          "name": "stdout",
          "text": [
            "{2, 3}\n"
          ]
        }
      ]
    },
    {
      "cell_type": "code",
      "source": [
        "#21) Write a code to create a dictionary with the keys \"name\", \"age\", and \"city\", and print it.\n",
        "d={\"name\":\"Srushti\",\"age\":20,\"city\":\"Mumbai\"}\n",
        "print(d)"
      ],
      "metadata": {
        "colab": {
          "base_uri": "https://localhost:8080/"
        },
        "id": "M1-9oQL2nuxD",
        "outputId": "230dd4c0-df03-4da9-dff8-4699ed374afa"
      },
      "execution_count": 33,
      "outputs": [
        {
          "output_type": "stream",
          "name": "stdout",
          "text": [
            "{'name': 'Srushti', 'age': 20, 'city': 'Mumbai'}\n"
          ]
        }
      ]
    },
    {
      "cell_type": "code",
      "source": [
        "#22) Write a code to add a new key-value pair \"country\": \"USA\" to the dictionary {'name': 'John', 'age': 25}.\n",
        "d={'name': 'John', 'age': 25}\n",
        "d.update({\"country\":\"USA\"})\n",
        "print(d)"
      ],
      "metadata": {
        "colab": {
          "base_uri": "https://localhost:8080/"
        },
        "id": "HbVlPZE1oMVO",
        "outputId": "122feafc-897f-4e2b-c282-48edec3a89b8"
      },
      "execution_count": 34,
      "outputs": [
        {
          "output_type": "stream",
          "name": "stdout",
          "text": [
            "{'name': 'John', 'age': 25, 'country': 'USA'}\n"
          ]
        }
      ]
    },
    {
      "cell_type": "code",
      "source": [
        "#23) Write a code to access the value associated with the key \"name\" in the dictionary {'name': 'Alice', 'age': 30}.\n",
        "d={'name': 'Alice', 'age': 30}\n",
        "print(d[\"name\"])"
      ],
      "metadata": {
        "colab": {
          "base_uri": "https://localhost:8080/"
        },
        "id": "y4jvAF61ot_r",
        "outputId": "12638c13-8c9c-450d-972f-8f44e2f66f12"
      },
      "execution_count": 35,
      "outputs": [
        {
          "output_type": "stream",
          "name": "stdout",
          "text": [
            "Alice\n"
          ]
        }
      ]
    },
    {
      "cell_type": "code",
      "source": [
        "#24) Write a code to remove the key \"age\" from the dictionary {'name': 'Bob', 'age': 22, 'city': 'New York'}.\n",
        "d={'name': 'Bob', 'age': 22, 'city': 'New York'}\n",
        "d.pop(\"age\")\n",
        "print(d)"
      ],
      "metadata": {
        "colab": {
          "base_uri": "https://localhost:8080/"
        },
        "id": "j8RMZdqUp3jN",
        "outputId": "12efa1ec-0a1a-41a1-d393-649b00e93801"
      },
      "execution_count": 37,
      "outputs": [
        {
          "output_type": "stream",
          "name": "stdout",
          "text": [
            "{'name': 'Bob', 'city': 'New York'}\n"
          ]
        }
      ]
    },
    {
      "cell_type": "code",
      "source": [
        "#25) Write a code to check if the key \"city\" exists in the dictionary {'name': 'Alice', 'city': 'Paris'}\n",
        "d={'name': 'Alice', 'city': 'Paris'}\n",
        "print(\"city\" in d)"
      ],
      "metadata": {
        "colab": {
          "base_uri": "https://localhost:8080/"
        },
        "id": "3YOON0gEqUxC",
        "outputId": "fc70ab4f-c706-49ae-8703-e8e32712f541"
      },
      "execution_count": 38,
      "outputs": [
        {
          "output_type": "stream",
          "name": "stdout",
          "text": [
            "True\n"
          ]
        }
      ]
    },
    {
      "cell_type": "code",
      "source": [
        "#26) Write a code to create a list, a tuple, and a dictionary, and print them all.\n",
        "l=[1,2,3]\n",
        "t=(1,2,3)\n",
        "d={1:2,3:4}\n",
        "print(l,t,d)"
      ],
      "metadata": {
        "colab": {
          "base_uri": "https://localhost:8080/"
        },
        "id": "tCwiJp3AqgUp",
        "outputId": "8ace9544-0627-45b4-975a-643974c4cf63"
      },
      "execution_count": 39,
      "outputs": [
        {
          "output_type": "stream",
          "name": "stdout",
          "text": [
            "[1, 2, 3] (1, 2, 3) {1: 2, 3: 4}\n"
          ]
        }
      ]
    },
    {
      "cell_type": "code",
      "source": [
        "#27) Write a code to create a list of 5 random numbers between 1 and 100, sort it in ascending order, and print the result.(replaced)\n",
        "list1=[23,25,31,7,24]\n",
        "list1.sort()\n",
        "print(list1)"
      ],
      "metadata": {
        "colab": {
          "base_uri": "https://localhost:8080/"
        },
        "id": "xy8Nj4Lhqsmj",
        "outputId": "1e7a917c-f75e-4179-beb4-9bee0dcea479"
      },
      "execution_count": 40,
      "outputs": [
        {
          "output_type": "stream",
          "name": "stdout",
          "text": [
            "[7, 23, 24, 25, 31]\n"
          ]
        }
      ]
    },
    {
      "cell_type": "code",
      "source": [
        "#28) Write a code to create a list with strings and print the element at the third index.\n",
        "l=[\"s\",\"r\",\"u\",\"s\",\"h\",\"t\",\"i\"]\n",
        "print(l[3])"
      ],
      "metadata": {
        "colab": {
          "base_uri": "https://localhost:8080/"
        },
        "id": "Undrgy-Wroe2",
        "outputId": "23ecdbb2-8173-44ed-b216-17d1b575c818"
      },
      "execution_count": 42,
      "outputs": [
        {
          "output_type": "stream",
          "name": "stdout",
          "text": [
            "s\n"
          ]
        }
      ]
    },
    {
      "cell_type": "code",
      "source": [
        "#29) Write a code to combine two dictionaries into one and print the result.\n",
        "d1={1:\"srushti\", 2:\"Poo\", 3:\"Triveni\", 4:\"Anu\"}\n",
        "d2={5:\"Harsh\",6:\"Sanket\"}\n",
        "d1.update(d2)\n",
        "print(d1)"
      ],
      "metadata": {
        "colab": {
          "base_uri": "https://localhost:8080/"
        },
        "id": "B9usjAKysl5q",
        "outputId": "104215ea-9cc9-4f55-fcf0-ce25c4335757"
      },
      "execution_count": 43,
      "outputs": [
        {
          "output_type": "stream",
          "name": "stdout",
          "text": [
            "{1: 'srushti', 2: 'Poo', 3: 'Triveni', 4: 'Anu', 5: 'Harsh', 6: 'Sanket'}\n"
          ]
        }
      ]
    },
    {
      "cell_type": "code",
      "source": [
        "#30) Write a code to convert a list of strings into a set.\n",
        "list1=[\"apple\",\"orange\",\"kiwi\"]\n",
        "set1=set(list1)\n",
        "print(set1)"
      ],
      "metadata": {
        "colab": {
          "base_uri": "https://localhost:8080/"
        },
        "id": "QPOSOd-Zt3yN",
        "outputId": "6c497bd0-fdd2-4bbf-f889-4f2284b7ea30"
      },
      "execution_count": 44,
      "outputs": [
        {
          "output_type": "stream",
          "name": "stdout",
          "text": [
            "{'kiwi', 'apple', 'orange'}\n"
          ]
        }
      ]
    }
  ]
}